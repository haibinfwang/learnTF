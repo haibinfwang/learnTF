{
 "cells": [
  {
   "cell_type": "markdown",
   "metadata": {},
   "source": [
    "# Summary of Tutorials\n",
    "\n",
    "This note summarize main functionality covered by the set of tutorials at https://www.tensorflow.org/tutorials\n",
    "\n"
   ]
  },
  {
   "cell_type": "markdown",
   "metadata": {},
   "source": [
    "## Datasets\n",
    "\n",
    "Standard datasets are available from e.g.\n",
    " - tf.keras.datasets.fashion_mnist\n",
    "\n",
    "This utility function downloads dataset over internet\n",
    " - tf.keras.utils.get_file\n"
   ]
  },
  {
   "cell_type": "markdown",
   "metadata": {},
   "source": [
    " ## Dataset configuration\n",
    " \n",
    " Cache and pre-fetch can improve performance. They can be achieved by \n",
    "  - .cache()\n",
    "  - .prefetch()"
   ]
  },
  {
   "cell_type": "markdown",
   "metadata": {},
   "source": [
    "## Model and training\n",
    "\n",
    "### model specification\n",
    "\n",
    "Model architecture can be specified by\n",
    " - model = tf.keras.Sequential()\n",
    " \n",
    "The loss function, metrics, and optimizer are spcified by \n",
    " - model.compile()\n",
    " \n",
    "### Notable member methods of model\n",
    "\n",
    " - model.summary() prints out model architecture\n",
    " - history = model.fit() gives everything happened during training, including the learning curve\n",
    " - loss, accuracy = model.evaluate(test_ds) evaluates model\n",
    " - model.predict() gives prediction\n",
    " - Export model, see Basic Text Classification tutorial\n"
   ]
  }
 ],
 "metadata": {
  "kernelspec": {
   "display_name": "Python 3",
   "language": "python",
   "name": "python3"
  },
  "language_info": {
   "codemirror_mode": {
    "name": "ipython",
    "version": 3
   },
   "file_extension": ".py",
   "mimetype": "text/x-python",
   "name": "python",
   "nbconvert_exporter": "python",
   "pygments_lexer": "ipython3",
   "version": "3.8.5"
  }
 },
 "nbformat": 4,
 "nbformat_minor": 4
}
