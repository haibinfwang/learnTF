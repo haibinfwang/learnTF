{
 "cells": [
  {
   "cell_type": "markdown",
   "metadata": {},
   "source": [
    "# TensorFlow Basics"
   ]
  },
  {
   "cell_type": "code",
   "execution_count": null,
   "metadata": {},
   "outputs": [],
   "source": [
    "import tensorflow as tf\n",
    "import numpy as np\n",
    "\n",
    "# tf.debugging.set_log_device_placement(True)"
   ]
  },
  {
   "cell_type": "markdown",
   "metadata": {},
   "source": [
    "## II. Tensor\n",
    "\n",
    "Tensors are multi-dimensional arrays with a uniform type (called a dtype).\n",
    " - They are immutable.\n",
    " - Tensor can be created with tf.constant(), from a tensor-like object\n",
    " - Types of tensor elements are represented by class tf.dtypes.DType() (Dtype class in tf.dtypes module)\n",
    " - Tensor can be converted to a NumPy array either using np.array(tensor) or the tensor.numpy() method\n",
    " - One can do basic math on tensors, including\n",
    "   - addition, tf.add, or +\n",
    "   - element-wise multiplication, tf.multiply, or overload *\n",
    "   - matrix multiplication, tf.matmul, or @\n",
    "\n",
    "Tensor has many parallels with a numpy array\n",
    " - Indexing\n",
    " - Memory layout is row-major\n",
    " - Shape and reshaping (tf.reshape)\n",
    " - Broadcasting\n",
    " - Tensor generating functions, tf.zero, tf.range, etc.\n"
   ]
  },
  {
   "cell_type": "markdown",
   "metadata": {},
   "source": [
    "## III. Variables\n",
    "\n",
    "Variables are created and tracked via the tf.Variable class. A tf.Variable represents a tensor whose value can be changed by running ops on it.\n",
    "\n",
    "To check on what device your variables are placed, call tf.debugging.set_log_device_placement(True).\n",
    "\n",
    "A variable\n",
    " - can be created by tf.Variable(), which takes a tensor or tensor-like object as input.\n",
    " - looks and acts like a tensor\n",
    "   - It is a data structure backed by a tf.Tensor\n",
    "   - Like tensors, they have a dtype and a shape, and can be exported to NumPy.\n",
    "   - But it cannot be reshaped. tf.reshape a variable creates a new tensor\n",
    "\n",
    " Creating new variables from existing variables duplicates the backing tensors. Two variables will not share the same memory.\n",
    "\n",
    "Other properties and behaviors of tf.Variables are in order\n",
    " - If you use a variable like a tensor in operations, you will usually operate on the backing tensor\n",
    " - Creating new variables from existing variables duplicates the backing tensors -- they do not share the same memory.\n",
    " - One can turn off gradients for a variable by setting trainable to false at creation\n",
    " - Placement on device (of variables and tensors)\n",
    "   - TensorFlow will attempt to place tensors and variables on the fastest device compatible with its dtype\n",
    "   - This means most variables are placed on a GPU if one is available.\n",
    "   - One can override using context like\n",
    "     - with tf.device('CPU:0'):\n",
    "     - with tf.device('GPU:0'):\n",
    "   - One can check the placement log by calling tf.debugging.set_log_device_placement(True) at the beginning of the session"
   ]
  },
  {
   "cell_type": "markdown",
   "metadata": {},
   "source": [
    "## IV. Introduction to Gradients and Automatic Differentiation\n",
    "\n",
    "### 1. Gradient tapes\n",
    "TensorFlow \"records\" relevant operations executed inside the context of a tf.GradientTape onto a \"tape\". TensorFlow then uses that tape to compute the gradients of a \"recorded\" computation using reverse mode differentiation. For example,"
   ]
  },
  {
   "cell_type": "code",
   "execution_count": 9,
   "metadata": {
    "scrolled": true
   },
   "outputs": [
    {
     "name": "stdout",
     "output_type": "stream",
     "text": [
      "Executing op DestroyResourceOp in device /job:localhost/replica:0/task:0/device:GPU:0\n",
      "6.0\n"
     ]
    }
   ],
   "source": [
    "x = tf.Variable(3.0)\n",
    "with tf.GradientTape() as tape:\n",
    "    y = x**2 # Record operations in forward pass\n",
    "    dy_dx = tape.gradient(y, x)\n",
    "    print(dy_dx.numpy())"
   ]
  },
  {
   "cell_type": "markdown",
   "metadata": {},
   "source": [
    "It's common to collect tf.Variables into a tf.Module or one of its subclasses (layers.Layer, keras.Model) for checkpointing and exporting. All subclasses of tf.Module aggregate their variables in the Module.trainable_variables property, with respect to which gradient can be easily performed.\n",
    "\n",
    "[Has more ...]"
   ]
  },
  {
   "cell_type": "markdown",
   "metadata": {},
   "source": [
    "## V. Introduction to graphs and tf.functions\n",
    "\n",
    "This session goes beneath the surface of TensorFlow and Keras to see how TensorFlow works. \n",
    "\n"
   ]
  }
 ],
 "metadata": {
  "kernelspec": {
   "display_name": "Python 3",
   "language": "python",
   "name": "python3"
  },
  "language_info": {
   "codemirror_mode": {
    "name": "ipython",
    "version": 3
   },
   "file_extension": ".py",
   "mimetype": "text/x-python",
   "name": "python",
   "nbconvert_exporter": "python",
   "pygments_lexer": "ipython3",
   "version": "3.8.5"
  }
 },
 "nbformat": 4,
 "nbformat_minor": 4
}
